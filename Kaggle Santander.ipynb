{
 "cells": [
  {
   "cell_type": "code",
   "execution_count": 12,
   "metadata": {},
   "outputs": [],
   "source": [
    "import pandas as pd\n",
    "import numpy as np"
   ]
  },
  {
   "cell_type": "code",
   "execution_count": 5,
   "metadata": {},
   "outputs": [],
   "source": [
    "train = pd.read_csv(\"../kaggle Santander/data/train.csv\")"
   ]
  },
  {
   "cell_type": "code",
   "execution_count": 6,
   "metadata": {},
   "outputs": [],
   "source": [
    "test = pd.read_csv(\"../kaggle Santander/data/test.csv\")"
   ]
  },
  {
   "cell_type": "code",
   "execution_count": 7,
   "metadata": {},
   "outputs": [
    {
     "data": {
      "text/plain": [
       "(4459, 4993)"
      ]
     },
     "execution_count": 7,
     "metadata": {},
     "output_type": "execute_result"
    }
   ],
   "source": [
    "train.shape"
   ]
  },
  {
   "cell_type": "code",
   "execution_count": 22,
   "metadata": {},
   "outputs": [],
   "source": [
    "def check_nulls(df):\n",
    "    nulls = df.isnull().sum(axis=0).reset_index()\n",
    "    nulls.columns = ['column', 'missing']\n",
    "    nulls = nulls[nulls['missing']>0]\n",
    "    nulls = nulls.sort_values(by='missing')\n",
    "    return nulls"
   ]
  },
  {
   "cell_type": "code",
   "execution_count": 24,
   "metadata": {},
   "outputs": [
    {
     "data": {
      "text/html": [
       "<div>\n",
       "<style>\n",
       "    .dataframe thead tr:only-child th {\n",
       "        text-align: right;\n",
       "    }\n",
       "\n",
       "    .dataframe thead th {\n",
       "        text-align: left;\n",
       "    }\n",
       "\n",
       "    .dataframe tbody tr th {\n",
       "        vertical-align: top;\n",
       "    }\n",
       "</style>\n",
       "<table border=\"1\" class=\"dataframe\">\n",
       "  <thead>\n",
       "    <tr style=\"text-align: right;\">\n",
       "      <th></th>\n",
       "      <th>column</th>\n",
       "      <th>missing</th>\n",
       "    </tr>\n",
       "  </thead>\n",
       "  <tbody>\n",
       "  </tbody>\n",
       "</table>\n",
       "</div>"
      ],
      "text/plain": [
       "Empty DataFrame\n",
       "Columns: [column, missing]\n",
       "Index: []"
      ]
     },
     "execution_count": 24,
     "metadata": {},
     "output_type": "execute_result"
    }
   ],
   "source": [
    "check_nulls(train)"
   ]
  },
  {
   "cell_type": "code",
   "execution_count": 85,
   "metadata": {},
   "outputs": [],
   "source": [
    "def check_sparsity(df):\n",
    "    non_zeros_coldf = df.ne(0).sum(axis=0)==0\n",
    "    non_zeros_col = non_zeros_coldf[non_zeros_coldf == 1]\n",
    "    non_zeros = non_zeros_col.sum()\n",
    "    total = df.shape[1]*df.shape[0]\n",
    "    zeros = total - non_zeros\n",
    "    sparsity = round(zeros / total * 100,2)\n",
    "    density = round(non_zeros / total * 100,2)\n",
    "    print(\" Total:\",total,\"\\n Zeros:\", zeros, \"\\n Sparsity [%]: \", sparsity, \"\\n Density [%]: \", density)\n",
    "    print(\"\\n Columns with only Zeros: \\n\", non_zeros_col)"
   ]
  },
  {
   "cell_type": "code",
   "execution_count": 27,
   "metadata": {},
   "outputs": [],
   "source": [
    "temp = pd.DataFrame({'age': [10,20,30], 'height': [0, 180, 170]})"
   ]
  },
  {
   "cell_type": "code",
   "execution_count": 79,
   "metadata": {},
   "outputs": [
    {
     "data": {
      "text/plain": [
       "age       False\n",
       "height    False\n",
       "dtype: bool"
      ]
     },
     "execution_count": 79,
     "metadata": {},
     "output_type": "execute_result"
    }
   ],
   "source": [
    "temp.ne(0).sum(axis=0)==0"
   ]
  },
  {
   "cell_type": "code",
   "execution_count": 86,
   "metadata": {},
   "outputs": [
    {
     "name": "stdout",
     "output_type": "stream",
     "text": [
      " Total: 22263787 \n",
      " Zeros: 22263531 \n",
      " Sparsity [%]:  100.0 \n",
      " Density [%]:  0.0\n",
      "\n",
      " Columns with only Zeros: \n",
      " d5308d8bc    True\n",
      "c330f1a67    True\n",
      "eeac16933    True\n",
      "7df8788e8    True\n",
      "5b91580ee    True\n",
      "6f29fbbc7    True\n",
      "46dafc868    True\n",
      "ae41a98b6    True\n",
      "f416800e9    True\n",
      "6d07828ca    True\n",
      "7ac332a1d    True\n",
      "70ee7950a    True\n",
      "833b35a7c    True\n",
      "2f9969eab    True\n",
      "8b1372217    True\n",
      "68322788b    True\n",
      "2288ac1a6    True\n",
      "dc7f76962    True\n",
      "467044c26    True\n",
      "39ebfbfd9    True\n",
      "9a5ff8c23    True\n",
      "f6fac27c8    True\n",
      "664e2800e    True\n",
      "ae28689a2    True\n",
      "d87dcac58    True\n",
      "4065efbb6    True\n",
      "f944d9d43    True\n",
      "c2c4491d5    True\n",
      "a4346e2e2    True\n",
      "1af366d4f    True\n",
      "             ... \n",
      "e5649663e    True\n",
      "6c16efbb8    True\n",
      "9118fd5ca    True\n",
      "ca8d565f1    True\n",
      "16a5bb8d2    True\n",
      "fd6347461    True\n",
      "f5179fb9c    True\n",
      "97428b646    True\n",
      "f684b0a96    True\n",
      "e4b2caa9f    True\n",
      "2c2d9f267    True\n",
      "96eb14eaf    True\n",
      "cb2cb460c    True\n",
      "86f843927    True\n",
      "ecd16fc60    True\n",
      "801c6dc8e    True\n",
      "f859a25b8    True\n",
      "ae846f332    True\n",
      "2252c7403    True\n",
      "fb9e07326    True\n",
      "d196ca1fd    True\n",
      "a8e562e8e    True\n",
      "eb6bb7ce1    True\n",
      "5beff147e    True\n",
      "52b347cdc    True\n",
      "4600aadcf    True\n",
      "6fa0b9dab    True\n",
      "43d70cc4d    True\n",
      "408021ef8    True\n",
      "e29d22b59    True\n",
      "Length: 256, dtype: bool\n"
     ]
    }
   ],
   "source": [
    "check_sparsity(train)"
   ]
  },
  {
   "cell_type": "code",
   "execution_count": 80,
   "metadata": {},
   "outputs": [],
   "source": [
    "t2 = traintrain.ne(0).sum(axis=0)==0"
   ]
  },
  {
   "cell_type": "code",
   "execution_count": 82,
   "metadata": {},
   "outputs": [],
   "source": [
    "t3 = t2[t2 ==1]"
   ]
  },
  {
   "cell_type": "code",
   "execution_count": null,
   "metadata": {},
   "outputs": [],
   "source": []
  }
 ],
 "metadata": {
  "kernelspec": {
   "display_name": "Python 3",
   "language": "python",
   "name": "python3"
  },
  "language_info": {
   "codemirror_mode": {
    "name": "ipython",
    "version": 3
   },
   "file_extension": ".py",
   "mimetype": "text/x-python",
   "name": "python",
   "nbconvert_exporter": "python",
   "pygments_lexer": "ipython3",
   "version": "3.6.5"
  }
 },
 "nbformat": 4,
 "nbformat_minor": 2
}
